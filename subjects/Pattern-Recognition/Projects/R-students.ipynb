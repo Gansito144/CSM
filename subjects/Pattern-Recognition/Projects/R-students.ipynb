{
 "cells": [
  {
   "cell_type": "markdown",
   "metadata": {},
   "source": [
    "## Student Alcohol Consumption Dataset\n",
    "\n",
    "#### Source: \n",
    "* *Fabio Pagnotta*, *Hossain Mohammad Amran*.\n",
    "* **Email:** fabio.pagnotta@studenti.unicam.it, mohammadamra.hossain@studenti.unicam.it\n",
    "* *University Of Camerino*\n"
   ]
  },
  {
   "cell_type": "markdown",
   "metadata": {},
   "source": [
    "### 0.- Libraries needed "
   ]
  },
  {
   "cell_type": "code",
   "execution_count": 11,
   "metadata": {
    "collapsed": false
   },
   "outputs": [],
   "source": [
    "# install.packages(\"rminer\", repos = \"http://cran.us.r-project.org\") #run it once to install missing libraries\n",
    "library(party)  # needed for trees\n",
    "library(rminer) # used in paper reference"
   ]
  },
  {
   "cell_type": "markdown",
   "metadata": {},
   "source": [
    "### 1.- Load & Prepare Data Sets \n",
    "First step is to load and merge data from maths and portuguese data sets."
   ]
  },
  {
   "cell_type": "code",
   "execution_count": 45,
   "metadata": {
    "collapsed": false
   },
   "outputs": [],
   "source": [
    "# Load maths data set\n",
    "math = read.table(\"student-mat.csv\", sep=\";\", header=TRUE)\n",
    "port = read.table(\"student-por.csv\", sep=\";\", header=TRUE)\n",
    "\n",
    "# Clean it up\n",
    "math = na.omit(math)\n",
    "port = na.omit(port)\n",
    "\n",
    "# Create two new columns one indication the overall weekly alcohol \n",
    "# consumption and the other one indicating if student approved or \n",
    "# not the subject \n",
    "math$alcohol = (math$Dalc*5) + (math$Walc*2)\n",
    "math$passed = ifelse(math$G3 > 9, \"pass\" , \"fail\")\n",
    "port$alcohol = (port$Dalc*5) + (port$Walc*2)\n",
    "port$passed = ifelse(port$G3 > 9, \"pass\" , \"fail\")\n",
    "\n",
    "# Join Data Sets\n",
    "# all <- rbind(math, port)"
   ]
  },
  {
   "cell_type": "code",
   "execution_count": 43,
   "metadata": {
    "collapsed": false
   },
   "outputs": [
    {
     "name": "stdout",
     "output_type": "stream",
     "text": [
      "\n",
      "\t Conditional inference tree with 3 terminal nodes\n",
      "\n",
      "Response:  G3 \n",
      "Inputs:  studytime, alcohol, Pstatus, romantic, Mjob, Fjob, Medu, Fedu, paid, failures, traveltime, age \n",
      "Number of observations:  395 \n",
      "\n",
      "1) failures <= 0; criterion = 1, statistic = 51.18\n",
      "  2) Mjob == {health, services}; criterion = 0.965, statistic = 16.054\n",
      "    3)*  weights = 102 \n",
      "  2) Mjob == {at_home, other, teacher}\n",
      "    4)*  weights = 210 \n",
      "1) failures > 0\n",
      "  5)*  weights = 83 \n"
     ]
    },
    {
     "data": {
      "image/png": "[encoded data removed]"
     },
     "metadata": {},
     "output_type": "display_data"
    },
    {
     "data": {
      "image/png": "[encoded data removed]"
     },
     "metadata": {},
     "output_type": "display_data"
    }
   ],
   "source": [
    "# Simple Decision Tree to see basic paths\n",
    "math.tree <- ctree( G3 ~ studytime + alcohol + Pstatus\n",
    "    + romantic + Mjob + Fjob + Medu + Fedu\n",
    "    + paid + failures + traveltime + age, data =  math)\n",
    "\n",
    "# Print tree decisions\n",
    "print(math.tree)\n",
    "# Default view of tree\n",
    "plot(math.tree)\n",
    "# Another simple view of the tree\n",
    "plot(math.tree, type=\"simple\")"
   ]
  },
  {
   "cell_type": "code",
   "execution_count": 8,
   "metadata": {
    "collapsed": false
   },
   "outputs": [
    {
     "name": "stdout",
     "output_type": "stream",
     "text": [
      "[1] 649\n"
     ]
    },
    {
     "ename": "ERROR",
     "evalue": "Error in eval(expr, envir, enclos): could not find function \"ctree\"\n",
     "output_type": "error",
     "traceback": [
      "Error in eval(expr, envir, enclos): could not find function \"ctree\"\n"
     ]
    },
    {
     "ename": "ERROR",
     "evalue": "Error in plot(port.tree): object 'port.tree' not found\n",
     "output_type": "error",
     "traceback": [
      "Error in plot(port.tree): object 'port.tree' not found\n"
     ]
    }
   ],
   "source": [
    "port = read.table(\"student-por.csv\", sep=\";\", header=TRUE)\n",
    "port = na.omit(port)\n",
    "print(nrow(port))\n",
    "port.tree <- ctree(G3 ~ studytime + romantic + Dalc + Walc, data = port)\n",
    "plot(port.tree)"
   ]
  },
  {
   "cell_type": "code",
   "execution_count": 44,
   "metadata": {
    "collapsed": false
   },
   "outputs": [],
   "source": [
    "# K <- c(\"kfold\",10) # 10-fold cross-validation\n",
    "# execute 10 runs of a DT classification:\n",
    "# DT <- mining(y~.,math,model=\"dt\",Runs=20,method=K)\n",
    "# show mean classification error on test set:\n",
    "# print(mean(DT$error))\n",
    "# save the results (predictions, ...):\n",
    "# saveMining(DT,\"DT-results\")"
   ]
  },
  {
   "cell_type": "markdown",
   "metadata": {},
   "source": [
    "#### 1.1.- Select relevant attributes  \n",
    "In this work we decided to use only few arguments for the first round analysis, in the future more attributes could be taken in count to enrich the analysis."
   ]
  },
  {
   "cell_type": "code",
   "execution_count": 14,
   "metadata": {
    "collapsed": false
   },
   "outputs": [],
   "source": [
    "# TO - DO\n",
    "# data = subset(all, select = c(\"sex\",\"famsize\",\"Pstatus\",\"studytime\",\"romantic\",\"Dalc\",\"Walc\",\"G3\"))"
   ]
  },
  {
   "cell_type": "code",
   "execution_count": null,
   "metadata": {
    "collapsed": true
   },
   "outputs": [],
   "source": []
  }
 ],
 "metadata": {
  "kernelspec": {
   "display_name": "R",
   "language": "",
   "name": "ir"
  },
  "language_info": {
   "codemirror_mode": "r",
   "file_extension": ".r",
   "mimetype": "text/x-r-source",
   "name": "R",
   "pygments_lexer": "r"
  },
  "name": "_merged",
  "widgets": {
   "state": {},
   "version": "1.1.2"
  }
 },
 "nbformat": 4,
 "nbformat_minor": 0
}
