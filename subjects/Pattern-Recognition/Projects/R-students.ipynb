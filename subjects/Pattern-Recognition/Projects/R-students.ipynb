{
 "cells": [
  {
   "cell_type": "markdown",
   "metadata": {},
   "source": [
    "## Improving Student Performance prediction using Decision Trees\n",
    "#### Presented by: Mario A. Santana Lopez, Ulises Mendez Martinez"
   ]
  },
  {
   "cell_type": "markdown",
   "metadata": {},
   "source": [
    "### Student Alcohol Consumption Dataset\n",
    "\n",
    "#### Data Source (Citation):\n",
    "**Using Data Mining To Predict Secondary School Student Alcohol Consumption.**\n",
    "\n",
    "*Fabio Pagnotta, Hossain Mohammad Amran* \n",
    "\n",
    "Department of Computer Science,University of Camerino\n",
    "\n",
    "#### Data Set was consulted at:\n",
    "* **Url:** https://archive.ics.uci.edu/ml/datasets/STUDENT+ALCOHOL+CONSUMPTION"
   ]
  },
  {
   "cell_type": "markdown",
   "metadata": {},
   "source": [
    "### 0.- Libraries needed \n",
    "First of all we need to install/load the packages required "
   ]
  },
  {
   "cell_type": "code",
   "execution_count": 31,
   "metadata": {
    "collapsed": false
   },
   "outputs": [],
   "source": [
    "# install.packages(\"rminer\", repos = \"http://cran.us.r-project.org\") #run it once to install missing libraries\n",
    "# install.packages('randomForest', repos = \"http://cran.us.r-project.org\")\n",
    "library(rpart)        # recursion trees \n",
    "library(party)        # needed for other trees\n",
    "library(rminer)       # used in paper reference\n",
    "library(rattle)       # for fancy plot\n",
    "library(rpart.plot)   # for fancy plot\n",
    "library(RColorBrewer) # for fancy plot\n",
    "library(randomForest)\n",
    "library(data.table)\n",
    "library(caret)\n",
    "library(lattice)\n",
    "library(ggplot2)"
   ]
  },
  {
   "cell_type": "markdown",
   "metadata": {},
   "source": [
    "### 1.- Load & Prepare Data Sets \n",
    "First step is to load and clean data from maths and portuguese data sets.\n",
    "In this work we utilized two different sets:\n",
    "* **student-mat.csv:** Used for training puropouse.\n",
    "* **student-por.csv:** Used for test the model founded.\n",
    "\n",
    "The clean process is all about to omit the *na* values from the table."
   ]
  },
  {
   "cell_type": "code",
   "execution_count": 3,
   "metadata": {
    "collapsed": true
   },
   "outputs": [],
   "source": [
    "# Load math and portuguese data sets\n",
    "math = read.table(\"student-mat.csv\", sep=\";\", header=TRUE)\n",
    "port = read.table(\"student-por.csv\", sep=\";\", header=TRUE)\n",
    "\n",
    "# Clean it up\n",
    "math = na.omit(math)\n",
    "port = na.omit(port)"
   ]
  },
  {
   "cell_type": "markdown",
   "metadata": {},
   "source": [
    "#### 1.1- Inspect structure data set\n",
    "\n",
    "Using str **R** method, we can visualize which data is contained in our set."
   ]
  },
  {
   "cell_type": "code",
   "execution_count": 4,
   "metadata": {
    "collapsed": false
   },
   "outputs": [
    {
     "name": "stdout",
     "output_type": "stream",
     "text": [
      "'data.frame':\t395 obs. of  33 variables:\n",
      " $ school    : Factor w/ 2 levels \"GP\",\"MS\": 1 1 1 1 1 1 1 1 1 1 ...\n",
      " $ sex       : Factor w/ 2 levels \"F\",\"M\": 1 1 1 1 1 2 2 1 2 2 ...\n",
      " $ age       : int  18 17 15 15 16 16 16 17 15 15 ...\n",
      " $ address   : Factor w/ 2 levels \"R\",\"U\": 2 2 2 2 2 2 2 2 2 2 ...\n",
      " $ famsize   : Factor w/ 2 levels \"GT3\",\"LE3\": 1 1 2 1 1 2 2 1 2 1 ...\n",
      " $ Pstatus   : Factor w/ 2 levels \"A\",\"T\": 1 2 2 2 2 2 2 1 1 2 ...\n",
      " $ Medu      : int  4 1 1 4 3 4 2 4 3 3 ...\n",
      " $ Fedu      : int  4 1 1 2 3 3 2 4 2 4 ...\n",
      " $ Mjob      : Factor w/ 5 levels \"at_home\",\"health\",..: 1 1 1 2 3 4 3 3 4 3 ...\n",
      " $ Fjob      : Factor w/ 5 levels \"at_home\",\"health\",..: 5 3 3 4 3 3 3 5 3 3 ...\n",
      " $ reason    : Factor w/ 4 levels \"course\",\"home\",..: 1 1 3 2 2 4 2 2 2 2 ...\n",
      " $ guardian  : Factor w/ 3 levels \"father\",\"mother\",..: 2 1 2 2 1 2 2 2 2 2 ...\n",
      " $ traveltime: int  2 1 1 1 1 1 1 2 1 1 ...\n",
      " $ studytime : int  2 2 2 3 2 2 2 2 2 2 ...\n",
      " $ failures  : int  0 0 3 0 0 0 0 0 0 0 ...\n",
      " $ schoolsup : Factor w/ 2 levels \"no\",\"yes\": 2 1 2 1 1 1 1 2 1 1 ...\n",
      " $ famsup    : Factor w/ 2 levels \"no\",\"yes\": 1 2 1 2 2 2 1 2 2 2 ...\n",
      " $ paid      : Factor w/ 2 levels \"no\",\"yes\": 1 1 2 2 2 2 1 1 2 2 ...\n",
      " $ activities: Factor w/ 2 levels \"no\",\"yes\": 1 1 1 2 1 2 1 1 1 2 ...\n",
      " $ nursery   : Factor w/ 2 levels \"no\",\"yes\": 2 1 2 2 2 2 2 2 2 2 ...\n",
      " $ higher    : Factor w/ 2 levels \"no\",\"yes\": 2 2 2 2 2 2 2 2 2 2 ...\n",
      " $ internet  : Factor w/ 2 levels \"no\",\"yes\": 1 2 2 2 1 2 2 1 2 2 ...\n",
      " $ romantic  : Factor w/ 2 levels \"no\",\"yes\": 1 1 1 2 1 1 1 1 1 1 ...\n",
      " $ famrel    : int  4 5 4 3 4 5 4 4 4 5 ...\n",
      " $ freetime  : int  3 3 3 2 3 4 4 1 2 5 ...\n",
      " $ goout     : int  4 3 2 2 2 2 4 4 2 1 ...\n",
      " $ Dalc      : int  1 1 2 1 1 1 1 1 1 1 ...\n",
      " $ Walc      : int  1 1 3 1 2 2 1 1 1 1 ...\n",
      " $ health    : int  3 3 3 5 5 5 3 1 1 5 ...\n",
      " $ absences  : int  6 4 10 2 4 10 0 6 0 0 ...\n",
      " $ G1        : int  5 5 7 15 6 15 12 6 16 14 ...\n",
      " $ G2        : int  6 5 8 14 10 15 12 5 18 15 ...\n",
      " $ G3        : int  6 6 10 15 10 15 11 6 19 15 ...\n"
     ]
    }
   ],
   "source": [
    "str(math)"
   ]
  },
  {
   "cell_type": "markdown",
   "metadata": {},
   "source": [
    "#### 1.2- Select the first variables to create our model\n",
    "For our initial model we will take in count the following values, and create the new ones:\n",
    "* **sex:** student's sex (binary: 'F' - female or 'M' - male)\n",
    "* **age:** student's age (numeric: from 15 to 22)\n",
    "* **famsize:** family size (binary: 'LE3' - less or equal to 3 or 'GT3' - greater than 3) \n",
    "* **Pstatus:** parent's cohabitation status (binary: 'T' - living together or 'A' - apart)\n",
    "* **Medu:** mother's education (numeric: 0 - none, 1 - primary education (4th grade), 2 (5th to 9th grade), 3 secondary education or 4 higher education) \n",
    "* **Fedu:** father's education (numeric: 0 - none, 1 - primary education (4th grade), 2 (5th to 9th grade), 3 secondary education or 4 higher education) \n",
    "* **Mjob:** mother's job (nominal: 'teacher', 'health' care related, civil 'services' (e.g. administrative or police), 'at_home' or 'other')\n",
    "* **Fjob:** father's job (nominal: 'teacher', 'health' care related, civil 'services' (e.g. administrative or police), 'at_home' or 'other')\n",
    "* **traveltime:** home to school travel time (numeric: 1 - <15 min., 2 - 15 to 30 min., 3 - 30 min. to 1 hour, or 4 - >1 hour)\n",
    "* **failures:** number of past class failures (numeric: n if 1<=n<3, else 4) \n",
    "* **schoolsup:** extra educational support (binary: yes or no) \n",
    "* **famsup:** family educational support (binary: yes or no) \n",
    "* **romantic:** with a romantic relationship (binary: yes or no)\n",
    "* **famrel:** quality of family relationships (numeric: from 1 - very bad to 5 - excellent) \n",
    "* **freetime:** free time after school (numeric: from 1 - very low to 5 - very high) \n",
    "* **absences:** number of school absences (numeric: from 0 to 93) \n",
    "* **Dalc:** workday alcohol consumption (numeric: from 1 - very low to 5 - very high) \n",
    "* **Walc:** weekend alcohol consumption (numeric: from 1 - very low to 5 - very high) \n",
    "* **alcohol:** Created from the sum of daily and weekly alcohol consumption A = Walc\\*2 + Dalc\\*5\n",
    "* **passed:** Created from values of from G3 when they are greater than or equal to 10 they passed otherwise failed"
   ]
  },
  {
   "cell_type": "code",
   "execution_count": 5,
   "metadata": {
    "collapsed": false
   },
   "outputs": [],
   "source": [
    "# Create two new columns one indicating overall weekly alcohol consumption\n",
    "# and other one indicating if student approved or not the subject \n",
    "math$alcohol = (math$Dalc*5) + (math$Walc*2)\n",
    "math$passed = ifelse(math$G3 > 9, \"pass\" , \"fail\")\n",
    "port$alcohol = (port$Dalc*5) + (port$Walc*2)\n",
    "port$passed = ifelse(port$G3 > 9, \"pass\" , \"fail\")"
   ]
  },
  {
   "cell_type": "markdown",
   "metadata": {},
   "source": [
    "### 2.- First analysis\n",
    "\n",
    "#### 2.1.- Create the first tree decicion model\n",
    "Lets take our values selected and create and plot the first model"
   ]
  },
  {
   "cell_type": "code",
   "execution_count": 6,
   "metadata": {
    "collapsed": false
   },
   "outputs": [
    {
     "data": {
      "image/png": "[encoded data removed]"
     },
     "metadata": {},
     "output_type": "display_data"
    },
    {
     "name": "stdout",
     "output_type": "stream",
     "text": [
      "n= 395 \n",
      "\n",
      "node), split, n, loss, yval, (yprob)\n",
      "      * denotes terminal node\n",
      "\n",
      "  1) root 395 130 pass (0.3291139 0.6708861)  \n",
      "    2) failures>=0.5 83  31 fail (0.6265060 0.3734940)  \n",
      "      4) absences< 1 26   4 fail (0.8461538 0.1538462) *\n",
      "      5) absences>=1 57  27 fail (0.5263158 0.4736842)  \n",
      "       10) alcohol>=17 19   5 fail (0.7368421 0.2631579) *\n",
      "       11) alcohol< 17 38  16 pass (0.4210526 0.5789474)  \n",
      "         22) Fjob=health,services,teacher 15   6 fail (0.6000000 0.4000000) *\n",
      "         23) Fjob=at_home,other 23   7 pass (0.3043478 0.6956522) *\n",
      "    3) failures< 0.5 312  78 pass (0.2500000 0.7500000)  \n",
      "      6) schoolsup=yes 40  18 pass (0.4500000 0.5500000)  \n",
      "       12) Mjob=at_home,health,teacher 9   2 fail (0.7777778 0.2222222) *\n",
      "       13) Mjob=other,services 31  11 pass (0.3548387 0.6451613) *\n",
      "      7) schoolsup=no 272  60 pass (0.2205882 0.7794118)  \n",
      "       14) absences>=17.5 12   5 fail (0.5833333 0.4166667) *\n",
      "       15) absences< 17.5 260  53 pass (0.2038462 0.7961538)  \n",
      "         30) absences< 0.5 80  26 pass (0.3250000 0.6750000)  \n",
      "           60) sex=F 46  20 pass (0.4347826 0.5652174)  \n",
      "            120) Medu< 3.5 30  13 fail (0.5666667 0.4333333)  \n",
      "              240) alcohol< 8 14   2 fail (0.8571429 0.1428571) *\n",
      "              241) alcohol>=8 16   5 pass (0.3125000 0.6875000) *\n",
      "            121) Medu>=3.5 16   3 pass (0.1875000 0.8125000) *\n",
      "           61) sex=M 34   6 pass (0.1764706 0.8235294) *\n",
      "         31) absences>=0.5 180  27 pass (0.1500000 0.8500000) *\n"
     ]
    }
   ],
   "source": [
    "# Simple Decision Tree with all values\n",
    "tree1 <- rpart(passed~sex+age+famsize+Pstatus+Medu+Fedu+Mjob+Fjob\n",
    "            +traveltime+failures+schoolsup+famsup+romantic+famrel+freetime+absences+alcohol\n",
    "            ,data= math, method=\"class\")\n",
    "# Plot a fancy and more informative tree\n",
    " fancyRpartPlot(tree1)\n",
    "print(tree1)"
   ]
  },
  {
   "cell_type": "markdown",
   "metadata": {},
   "source": [
    "#### 2.1.1.- Create the first tree decicion model\n",
    "Let's see why failures and abscences has the weight they have."
   ]
  },
  {
   "cell_type": "code",
   "execution_count": 7,
   "metadata": {
    "collapsed": false
   },
   "outputs": [
    {
     "data": {
      "text/plain": [
       "\n",
       "  0   1   2   3 \n",
       "312  50  17  16 "
      ]
     },
     "execution_count": 7,
     "metadata": {},
     "output_type": "execute_result"
    },
    {
     "data": {
      "image/png": "[encoded data removed]"
     },
     "metadata": {},
     "output_type": "display_data"
    }
   ],
   "source": [
    "table(math$failures)\n",
    "plot(factor(math$failures))"
   ]
  },
  {
   "cell_type": "code",
   "execution_count": 8,
   "metadata": {
    "collapsed": false
   },
   "outputs": [
    {
     "data": {
      "text/plain": [
       "\n",
       "  0   1   2   3   4   5 \n",
       "115   3  65   8  53   5 "
      ]
     },
     "execution_count": 8,
     "metadata": {},
     "output_type": "execute_result"
    },
    {
     "data": {
      "image/png": "[encoded data removed]"
     },
     "metadata": {},
     "output_type": "display_data"
    }
   ],
   "source": [
    "head(table(math$absences)) # just some samples\n",
    "plot(factor(math$absences))"
   ]
  },
  {
   "cell_type": "markdown",
   "metadata": {},
   "source": [
    "As we could see the behaviour from those student who has already failed at least once, is different from thew rest, since for them is needed to not assist at least one class to have a better chance to pass."
   ]
  },
  {
   "cell_type": "markdown",
   "metadata": {},
   "source": [
    "#### 2.2.- Compare our prediction model \n",
    "Against the real values from portuguese data set."
   ]
  },
  {
   "cell_type": "code",
   "execution_count": 9,
   "metadata": {
    "collapsed": false
   },
   "outputs": [
    {
     "data": {
      "text/plain": [
       "\n",
       "    FALSE      TRUE \n",
       "0.2280431 0.7719569 "
      ]
     },
     "execution_count": 9,
     "metadata": {},
     "output_type": "execute_result"
    }
   ],
   "source": [
    "# Making a prediction based on previous Tree\n",
    "prediction1 <- predict(tree1, port, type = \"class\")\n",
    "\n",
    "# Calculating the error\n",
    "err1 <- table(prediction1 == port$passed)\n",
    "prop.table(err1)\n"
   ]
  },
  {
   "cell_type": "markdown",
   "metadata": {},
   "source": [
    "#### 2.3.- First conclusions\n",
    "We reached **77%** of correctness from our initial model, but of course from the tree diagram we can suspect a case of overfitting here, so let's start a more exhaustive analysis."
   ]
  },
  {
   "cell_type": "markdown",
   "metadata": {},
   "source": [
    "### 3.- Analysis step by step\n",
    "\n",
    "#### 3.1.- So, what's about alcohol? \n",
    "Lets make our first schema using only **alcohol** consumption and the number of **absences** (probably related)."
   ]
  },
  {
   "cell_type": "code",
   "execution_count": 10,
   "metadata": {
    "collapsed": false
   },
   "outputs": [
    {
     "data": {
      "image/png": "[encoded data removed]"
     },
     "metadata": {},
     "output_type": "display_data"
    }
   ],
   "source": [
    "# Tree\n",
    "tree2 <- rpart(passed~alcohol+absences, data= math, method=\"class\")\n",
    "# Plot\n",
    "fancyRpartPlot(tree2)"
   ]
  },
  {
   "cell_type": "markdown",
   "metadata": {},
   "source": [
    "The tree look pretty simple but lets check how good we've created our prediction:"
   ]
  },
  {
   "cell_type": "code",
   "execution_count": 11,
   "metadata": {
    "collapsed": false
   },
   "outputs": [
    {
     "data": {
      "text/plain": [
       "\n",
       "    FALSE      TRUE \n",
       "0.1664099 0.8335901 "
      ]
     },
     "execution_count": 11,
     "metadata": {},
     "output_type": "execute_result"
    }
   ],
   "source": [
    "# Prediction\n",
    "prediction2 <- predict(tree2, port, type = \"class\")\n",
    "\n",
    "# Error\n",
    "diff2 <- table(prediction2 == port$passed)\n",
    "prop.table(diff2)"
   ]
  },
  {
   "cell_type": "markdown",
   "metadata": {},
   "source": [
    "Not so bad, using only this two variables we've reached **83%** of accuracy."
   ]
  },
  {
   "cell_type": "markdown",
   "metadata": {},
   "source": [
    "#### 3.2.- What is the roll playing by parents here?\n",
    "Let's build another schema using **parents** info this time."
   ]
  },
  {
   "cell_type": "code",
   "execution_count": 12,
   "metadata": {
    "collapsed": false
   },
   "outputs": [
    {
     "data": {
      "image/png": "[encoded data removed]"
     },
     "metadata": {},
     "output_type": "display_data"
    }
   ],
   "source": [
    "# Tree    \n",
    "tree3 <- rpart(passed~famrel+famsize+Pstatus+Medu+Fedu+Mjob+Fjob\n",
    "            +famsup+famrel,data= math, method=\"class\",control=rpart.control(cp=0.005))\n",
    "# Fancy plot\n",
    "fancyRpartPlot(tree3)"
   ]
  },
  {
   "cell_type": "markdown",
   "metadata": {},
   "source": [
    "Unfortunally using those attributes we only get a node and not a tree as error in plot states.\n",
    "```{R}\n",
    "Error in plot.rpart(tree3): fit is not a tree, just a root\n",
    "```\n",
    "After modify a bit the control of our partitioner (setting cp == 0.005) we were able to get a tree.\n",
    "\n",
    "If we use **G3** value instead (tree above) we can generate a tree but if out of our scope its analysis, since we are only evaluating if student **passed** or not, so we need to move forward and keep looking for other relevant attributes.\n",
    "\n",
    "From the manual of rpart\n",
    "```\n",
    "cp: complexity parameter.  Any split that does not decrease the overall lack of fit by a factor of ‘cp’ is not attempted. For instance, with ‘anova’ splitting, this means that the overall R-squared must increase by ‘cp’ at each step. The main role of this parameter is to save computing time by pruning off splits that are obviously not worthwhile.\n",
    "```"
   ]
  },
  {
   "cell_type": "code",
   "execution_count": 13,
   "metadata": {
    "collapsed": false
   },
   "outputs": [
    {
     "data": {
      "text/plain": [
       "\n",
       "    FALSE      TRUE \n",
       "0.2881356 0.7118644 "
      ]
     },
     "execution_count": 13,
     "metadata": {},
     "output_type": "execute_result"
    }
   ],
   "source": [
    "# Prediction \n",
    "prediction3 <- predict(tree3, port, type = \"class\")\n",
    "\n",
    "# Error\n",
    "err3 <- table(prediction3 == port$passed)\n",
    "prop.table(err3)"
   ]
  },
  {
   "cell_type": "markdown",
   "metadata": {},
   "source": [
    "And as expected this model does not given a good fit of our needs, so let's move on to another attributes."
   ]
  },
  {
   "cell_type": "markdown",
   "metadata": {},
   "source": [
    "#### 3.2.- All you need is love?\n",
    "Let's see if this apply here, let's analyze **romantic** attribute also with **freetime**, **sex** and **age** values (probably related)."
   ]
  },
  {
   "cell_type": "code",
   "execution_count": 14,
   "metadata": {
    "collapsed": false
   },
   "outputs": [
    {
     "data": {
      "image/png": "[encoded data removed]"
     },
     "metadata": {},
     "output_type": "display_data"
    }
   ],
   "source": [
    "# Tree\n",
    "tree4 <- rpart(passed~sex+age+romantic+freetime,data= math, method=\"class\")\n",
    "# Plot\n",
    "fancyRpartPlot(tree4)"
   ]
  },
  {
   "cell_type": "markdown",
   "metadata": {},
   "source": [
    "Well this tree looks a bit unbalanced, but lets the error says how well or bad we did it, using prediction again."
   ]
  },
  {
   "cell_type": "code",
   "execution_count": 15,
   "metadata": {
    "collapsed": false
   },
   "outputs": [
    {
     "data": {
      "text/plain": [
       "\n",
       "    FALSE      TRUE \n",
       "0.2064715 0.7935285 "
      ]
     },
     "execution_count": 15,
     "metadata": {},
     "output_type": "execute_result"
    }
   ],
   "source": [
    "# Prediction\n",
    "prediction4 <- predict(tree4, port, type = \"class\")\n",
    "\n",
    "# Error\n",
    "diff4 <- table(prediction4 == port$passed)\n",
    "prop.table(diff4)"
   ]
  },
  {
   "cell_type": "markdown",
   "metadata": {},
   "source": [
    "Well it was a bit better than our first model for **2%**, reaching almost **80%** of correctness."
   ]
  },
  {
   "cell_type": "markdown",
   "metadata": {},
   "source": [
    "### 4.- A 'Clever' model"
   ]
  },
  {
   "cell_type": "markdown",
   "metadata": {},
   "source": [
    "#### 4.1.- Relevant properties\n",
    "As we saw in previous steps there a couple of factor which influence more, lets take those one and create a final tree. "
   ]
  },
  {
   "cell_type": "code",
   "execution_count": 16,
   "metadata": {
    "collapsed": false
   },
   "outputs": [
    {
     "data": {
      "image/png": "[encoded data removed]"
     },
     "metadata": {},
     "output_type": "display_data"
    }
   ],
   "source": [
    "# Tree\n",
    "tree5 <- rpart(passed~Mjob+Pstatus+Medu+Fjob+romantic+freetime+absences+alcohol+failures,data= math, method=\"class\")\n",
    "# Plot\n",
    "fancyRpartPlot(tree5)"
   ]
  },
  {
   "cell_type": "code",
   "execution_count": 17,
   "metadata": {
    "collapsed": false
   },
   "outputs": [
    {
     "data": {
      "text/plain": [
       "\n",
       "    FALSE      TRUE \n",
       "0.1587057 0.8412943 "
      ]
     },
     "execution_count": 17,
     "metadata": {},
     "output_type": "execute_result"
    }
   ],
   "source": [
    "# Prediction\n",
    "prediction5 <- predict(tree5, port, type = \"class\")\n",
    "# Error\n",
    "diff5 <- table(prediction5 == port$passed)\n",
    "prop.table(diff5)"
   ]
  },
  {
   "cell_type": "markdown",
   "metadata": {},
   "source": [
    "#### 4.2.-  Less bether than none\n",
    "\n",
    "After some reordering we were able to add a **1%** to our best prediction reaching **84%** of correct guesses."
   ]
  },
  {
   "cell_type": "markdown",
   "metadata": {},
   "source": [
    "### 5.- Conclusions"
   ]
  },
  {
   "cell_type": "markdown",
   "metadata": {},
   "source": [
    "From this basic analysis we can make a few conclusions here:\n",
    "* The main factor to determine the success of a student is its past, since people with previous **failures** tend to fail again. \n",
    "* Surprisingly  from student with previous failures and with **no absences** are more elegible to fail (sometimes [At least for them] is good to rest from school).\n",
    "* Other dominant attributes are **alcohol** consumption and the **father's job**.\n",
    "\n",
    "Must to be said that work with trees is not the best way to make predicitions, since usually they are built using greedy partitioning which as was proved many times could conduct us for not the best fit.\n",
    "\n",
    "So in order to make more solid conclusions we need to include more advanced techniques of machine learning analysis."
   ]
  },
  {
   "cell_type": "markdown",
   "metadata": {},
   "source": [
    "### 6.- Future Work"
   ]
  },
  {
   "cell_type": "markdown",
   "metadata": {},
   "source": [
    "Within the possibilities for future work are the following items:\n",
    "* Use of **Random Forests** and other techniques of machine learning.\n",
    "* Exchange data set and now train the model using portuguese data set and test it using math set.\n",
    "* Use the full range of quaifycations for G3 instead of just passed or not valued.\n",
    "* New analysis using **Local Data from local university**, and including parameters like *time consumed in social networks*, *previous year scores*, *etc.*"
   ]
  },
  {
   "cell_type": "markdown",
   "metadata": {},
   "source": [
    "### 7.- Variable reduction\n",
    "In order to create better predictions or trying to reproduce studies is very important to choose the correct parameters and features to use, but also optimize the data choosen, having lot of parameters can be do more difficult its analysis.\n",
    "In this study we are using 33 features, but in the decision trees performed before we don't take in consideration all, so lets review some recommended formal techniques to improve the selection of variables to analyze.\n",
    "It has been proved that a correct viarable reduction can improve the final results of the analysis.\n",
    "\n",
    "The techniques chosen to try in this study are:\n",
    "* Missing Values Ratio.\n",
    "* Low Variance.\n",
    "* High Correlation.\n",
    "* Decision trees.\n",
    "* Random Forest."
   ]
  },
  {
   "cell_type": "markdown",
   "metadata": {},
   "source": [
    "### 8.- Missing Values Ratio \n",
    "\n",
    "Sometimes data set information capturing can be limited by accesability to information, and not all samples have all information, in order to handle this is important to analyze if we have the enough data to perform our analysis.\n",
    "\n",
    "Missing Values Ratio, sets that is recommendable not have  a missing values ratio more than 40-50% according the quantity of samles in total, if it is bigger this percentage is better to discart the feature."
   ]
  },
  {
   "cell_type": "markdown",
   "metadata": {},
   "source": [
    "#### 8.1.- Load original values\n",
    "\n",
    "First we will need to load original values again since we alredy made a **NA** cleaning"
   ]
  },
  {
   "cell_type": "code",
   "execution_count": 18,
   "metadata": {
    "collapsed": true
   },
   "outputs": [],
   "source": [
    "# Load math and portuguese data sets with a new name\n",
    "math_mv = read.table(\"student-mat.csv\", sep=\";\", header=TRUE)\n",
    "port_mv = read.table(\"student-por.csv\", sep=\";\", header=TRUE)"
   ]
  },
  {
   "cell_type": "markdown",
   "metadata": {},
   "source": [
    "#### 8.2.- Calculate missing values ratio for each column\n",
    "\n",
    "To calculate the missing values ratio for each column we need to count the numbe of NA in each column divided by the expected size of the column."
   ]
  },
  {
   "cell_type": "code",
   "execution_count": 19,
   "metadata": {
    "collapsed": false
   },
   "outputs": [
    {
     "data": {
      "text/plain": [
       "   sex Count\n",
       "1:   F     0\n",
       "2:   M     0"
      ]
     },
     "execution_count": 19,
     "metadata": {},
     "output_type": "execute_result"
    },
    {
     "data": {
      "text/plain": [
       "   age Count\n",
       "1:  18     0\n",
       "2:  17     0\n",
       "3:  15     0\n",
       "4:  16     0\n",
       "5:  19     0\n",
       "6:  22     0\n",
       "7:  20     0\n",
       "8:  21     0"
      ]
     },
     "execution_count": 19,
     "metadata": {},
     "output_type": "execute_result"
    },
    {
     "data": {
      "text/plain": [
       "   famsize Count\n",
       "1:     GT3     0\n",
       "2:     LE3     0"
      ]
     },
     "execution_count": 19,
     "metadata": {},
     "output_type": "execute_result"
    },
    {
     "data": {
      "text/plain": [
       "   Pstatus Count\n",
       "1:       A     0\n",
       "2:       T     0"
      ]
     },
     "execution_count": 19,
     "metadata": {},
     "output_type": "execute_result"
    },
    {
     "data": {
      "text/plain": [
       "   Fedu Count\n",
       "1:    4     0\n",
       "2:    1     0\n",
       "3:    2     0\n",
       "4:    3     0\n",
       "5:    0     0"
      ]
     },
     "execution_count": 19,
     "metadata": {},
     "output_type": "execute_result"
    },
    {
     "data": {
      "text/plain": [
       "       Mjob Count\n",
       "1:  at_home     0\n",
       "2:   health     0\n",
       "3:    other     0\n",
       "4: services     0\n",
       "5:  teacher     0"
      ]
     },
     "execution_count": 19,
     "metadata": {},
     "output_type": "execute_result"
    },
    {
     "data": {
      "text/plain": [
       "       Fjob Count\n",
       "1:  teacher     0\n",
       "2:    other     0\n",
       "3: services     0\n",
       "4:   health     0\n",
       "5:  at_home     0"
      ]
     },
     "execution_count": 19,
     "metadata": {},
     "output_type": "execute_result"
    },
    {
     "data": {
      "text/plain": [
       "   traveltime Count\n",
       "1:          2     0\n",
       "2:          1     0\n",
       "3:          3     0\n",
       "4:          4     0"
      ]
     },
     "execution_count": 19,
     "metadata": {},
     "output_type": "execute_result"
    },
    {
     "data": {
      "text/plain": [
       "   failures Count\n",
       "1:        0     0\n",
       "2:        3     0\n",
       "3:        2     0\n",
       "4:        1     0"
      ]
     },
     "execution_count": 19,
     "metadata": {},
     "output_type": "execute_result"
    },
    {
     "data": {
      "text/plain": [
       "   famsup Count\n",
       "1:     no     0\n",
       "2:    yes     0"
      ]
     },
     "execution_count": 19,
     "metadata": {},
     "output_type": "execute_result"
    },
    {
     "data": {
      "text/plain": [
       "   schoolsup Count\n",
       "1:       yes     0\n",
       "2:        no     0"
      ]
     },
     "execution_count": 19,
     "metadata": {},
     "output_type": "execute_result"
    },
    {
     "data": {
      "text/plain": [
       "   romantic Count\n",
       "1:       no     0\n",
       "2:      yes     0"
      ]
     },
     "execution_count": 19,
     "metadata": {},
     "output_type": "execute_result"
    },
    {
     "data": {
      "text/plain": [
       "   famrel Count\n",
       "1:      4     0\n",
       "2:      5     0\n",
       "3:      3     0\n",
       "4:      1     0\n",
       "5:      2     0"
      ]
     },
     "execution_count": 19,
     "metadata": {},
     "output_type": "execute_result"
    },
    {
     "data": {
      "text/plain": [
       "   freetime Count\n",
       "1:        3     0\n",
       "2:        2     0\n",
       "3:        4     0\n",
       "4:        1     0\n",
       "5:        5     0"
      ]
     },
     "execution_count": 19,
     "metadata": {},
     "output_type": "execute_result"
    },
    {
     "data": {
      "text/plain": [
       "    absences Count\n",
       " 1:        6     0\n",
       " 2:        4     0\n",
       " 3:       10     0\n",
       " 4:        2     0\n",
       " 5:        0     0\n",
       " 6:       16     0\n",
       " 7:       14     0\n",
       " 8:        7     0\n",
       " 9:        8     0\n",
       "10:       25     0\n",
       "11:       12     0\n",
       "12:       54     0\n",
       "13:       18     0\n",
       "14:       26     0\n",
       "15:       20     0\n",
       "16:       56     0\n",
       "17:       24     0\n",
       "18:       28     0\n",
       "19:        5     0\n",
       "20:       13     0\n",
       "21:       15     0\n",
       "22:       22     0\n",
       "23:        3     0\n",
       "24:       21     0\n",
       "25:        1     0\n",
       "26:       75     0\n",
       "27:       30     0\n",
       "28:       19     0\n",
       "29:        9     0\n",
       "30:       11     0\n",
       "31:       38     0\n",
       "32:       40     0\n",
       "33:       23     0\n",
       "34:       17     0\n",
       "    absences Count"
      ]
     },
     "execution_count": 19,
     "metadata": {},
     "output_type": "execute_result"
    },
    {
     "data": {
      "text/plain": [
       "   Dalc Count\n",
       "1:    1     0\n",
       "2:    2     0\n",
       "3:    5     0\n",
       "4:    3     0\n",
       "5:    4     0"
      ]
     },
     "execution_count": 19,
     "metadata": {},
     "output_type": "execute_result"
    },
    {
     "data": {
      "text/plain": [
       "   Walc Count\n",
       "1:    1     0\n",
       "2:    3     0\n",
       "3:    2     0\n",
       "4:    4     0\n",
       "5:    5     0"
      ]
     },
     "execution_count": 19,
     "metadata": {},
     "output_type": "execute_result"
    }
   ],
   "source": [
    "setDT(math_mv)[, list(.N,unlist(.SD)), sex][, list(Count=sum(is.na(V2))/(.N+N[1])), sex]\n",
    "setDT(math_mv)[, list(.N,unlist(.SD)), age][, list(Count=sum(is.na(V2))/(.N+N[1])), age]\n",
    "setDT(math_mv)[, list(.N,unlist(.SD)), famsize][, list(Count=sum(is.na(V2))/(.N+N[1])), famsize]\n",
    "setDT(math_mv)[, list(.N,unlist(.SD)), Pstatus][, list(Count=sum(is.na(V2))/(.N+N[1])), Pstatus]\n",
    "setDT(math_mv)[, list(.N,unlist(.SD)), Fedu][, list(Count=sum(is.na(V2))/(.N+N[1])), Fedu]\n",
    "setDT(math_mv)[, list(.N,unlist(.SD)), Mjob][, list(Count=sum(is.na(V2))/(.N+N[1])), Mjob]\n",
    "setDT(math_mv)[, list(.N,unlist(.SD)), Fjob][, list(Count=sum(is.na(V2))/(.N+N[1])), Fjob]\n",
    "setDT(math_mv)[, list(.N,unlist(.SD)), traveltime][, list(Count=sum(is.na(V2))/(.N+N[1])), traveltime]\n",
    "setDT(math_mv)[, list(.N,unlist(.SD)), failures][, list(Count=sum(is.na(V2))/(.N+N[1])), failures]\n",
    "setDT(math_mv)[, list(.N,unlist(.SD)), famsup][, list(Count=sum(is.na(V2))/(.N+N[1])), famsup]\n",
    "setDT(math_mv)[, list(.N,unlist(.SD)), schoolsup][, list(Count=sum(is.na(V2))/(.N+N[1])), schoolsup]\n",
    "setDT(math_mv)[, list(.N,unlist(.SD)), romantic][, list(Count=sum(is.na(V2))/(.N+N[1])), romantic]\n",
    "setDT(math_mv)[, list(.N,unlist(.SD)), famrel][, list(Count=sum(is.na(V2))/(.N+N[1])), famrel]\n",
    "setDT(math_mv)[, list(.N,unlist(.SD)), freetime][, list(Count=sum(is.na(V2))/(.N+N[1])), freetime]\n",
    "setDT(math_mv)[, list(.N,unlist(.SD)), absences][, list(Count=sum(is.na(V2))/(.N+N[1])), absences]\n",
    "setDT(math_mv)[, list(.N,unlist(.SD)), Dalc][, list(Count=sum(is.na(V2))/(.N+N[1])), Dalc]\n",
    "setDT(math_mv)[, list(.N,unlist(.SD)), Walc][, list(Count=sum(is.na(V2))/(.N+N[1])), Walc]"
   ]
  },
  {
   "cell_type": "markdown",
   "metadata": {},
   "source": [
    "#### 8.3.- Missing Value ratio conclusion\n",
    "As part of our data set, we can say that have verified it is very well prepared since missing value ratio for all features was 0%, meaning all data is complete so we can continue using them.\n",
    "\n",
    "As part of the technique it wont help us to know which features are good to ask, but once we got data, what features have enough information to be used."
   ]
  },
  {
   "cell_type": "markdown",
   "metadata": {},
   "source": [
    "### 9.- Low variance\n",
    "\n",
    "data columns with little changes in the data carry little information. Thus all data columns with variance lower than a given threshold are removed. A word of caution: variance is range dependent; therefore normalization is required before applying this technique.\n",
    "\n",
    "#### 9.1.- Loading needed librarys\n",
    "R programming offers some libraries for data analysis, caret is a very useful library that provides a lot of functions related to variable reduction\n",
    "* library(caret)\n",
    "* library(lattice)\n",
    "* library(ggplot2)\n",
    "\n",
    "#### 9.2.- Calculate data variace parameters\n",
    "\n",
    "Let's use the function nearZeroVar function which will get the main data variance parameters "
   ]
  },
  {
   "cell_type": "code",
   "execution_count": 20,
   "metadata": {
    "collapsed": false
   },
   "outputs": [
    {
     "data": {
      "text/plain": [
       "           freqRatio percentUnique zeroVar   nzv\n",
       "school      7.586957     0.5063291   FALSE FALSE\n",
       "sex         1.112299     0.5063291   FALSE FALSE\n",
       "age         1.061224     2.0253165   FALSE FALSE\n",
       "address     3.488636     0.5063291   FALSE FALSE\n",
       "famsize     2.464912     0.5063291   FALSE FALSE\n",
       "Pstatus     8.634146     0.5063291   FALSE FALSE\n",
       "Medu        1.271845     1.2658228   FALSE FALSE\n",
       "Fedu        1.150000     1.2658228   FALSE FALSE\n",
       "Mjob        1.368932     1.2658228   FALSE FALSE\n",
       "Fjob        1.954955     1.2658228   FALSE FALSE\n",
       "reason      1.330275     1.0126582   FALSE FALSE\n",
       "guardian    3.033333     0.7594937   FALSE FALSE\n",
       "traveltime  2.401869     1.0126582   FALSE FALSE\n",
       "studytime   1.885714     1.0126582   FALSE FALSE\n",
       "failures    6.240000     1.0126582   FALSE FALSE\n",
       "schoolsup   6.745098     0.5063291   FALSE FALSE\n",
       "famsup      1.581699     0.5063291   FALSE FALSE\n",
       "paid        1.182320     0.5063291   FALSE FALSE\n",
       "activities  1.036082     0.5063291   FALSE FALSE\n",
       "nursery     3.876543     0.5063291   FALSE FALSE\n",
       "higher     18.750000     0.5063291   FALSE FALSE\n",
       "internet    4.984848     0.5063291   FALSE FALSE\n",
       "romantic    1.992424     0.5063291   FALSE FALSE\n",
       "famrel      1.839623     1.2658228   FALSE FALSE\n",
       "freetime    1.365217     1.2658228   FALSE FALSE\n",
       "goout       1.262136     1.2658228   FALSE FALSE\n",
       "Dalc        3.680000     1.2658228   FALSE FALSE\n",
       "Walc        1.776471     1.2658228   FALSE FALSE\n",
       "health      1.604396     1.2658228   FALSE FALSE\n",
       "absences    1.769231     8.6075949   FALSE FALSE\n",
       "G1          1.243902     4.3037975   FALSE FALSE\n",
       "G2          1.086957     4.3037975   FALSE FALSE\n",
       "G3          1.191489     4.5569620   FALSE FALSE"
      ]
     },
     "execution_count": 20,
     "metadata": {},
     "output_type": "execute_result"
    },
    {
     "data": {
      "text/plain": [
       "           freqRatio percentUnique zeroVar   nzv\n",
       "school      1.871681     0.3081664   FALSE FALSE\n",
       "sex         1.439850     0.3081664   FALSE FALSE\n",
       "age         1.011299     1.2326656   FALSE FALSE\n",
       "address     2.294416     0.3081664   FALSE FALSE\n",
       "famsize     2.380208     0.3081664   FALSE FALSE\n",
       "Pstatus     7.112500     0.3081664   FALSE FALSE\n",
       "Medu        1.062857     0.7704160   FALSE FALSE\n",
       "Fedu        1.201149     0.7704160   FALSE FALSE\n",
       "Mjob        1.897059     0.7704160   FALSE FALSE\n",
       "Fjob        2.027624     0.7704160   FALSE FALSE\n",
       "reason      1.912752     0.6163328   FALSE FALSE\n",
       "guardian    2.973856     0.4622496   FALSE FALSE\n",
       "traveltime  1.718310     0.6163328   FALSE FALSE\n",
       "studytime   1.438679     0.6163328   FALSE FALSE\n",
       "failures    7.842857     0.6163328   FALSE FALSE\n",
       "schoolsup   8.544118     0.3081664   FALSE FALSE\n",
       "famsup      1.585657     0.3081664   FALSE FALSE\n",
       "paid       15.641026     0.3081664   FALSE FALSE\n",
       "activities  1.060317     0.3081664   FALSE FALSE\n",
       "nursery     4.070312     0.3081664   FALSE FALSE\n",
       "higher      8.405797     0.3081664   FALSE FALSE\n",
       "internet    3.298013     0.3081664   FALSE FALSE\n",
       "romantic    1.715481     0.3081664   FALSE FALSE\n",
       "famrel      1.761111     0.7704160   FALSE FALSE\n",
       "freetime    1.410112     0.7704160   FALSE FALSE\n",
       "goout       1.413793     0.7704160   FALSE FALSE\n",
       "Dalc        3.727273     0.7704160   FALSE FALSE\n",
       "Walc        1.646667     0.7704160   FALSE FALSE\n",
       "health      2.008065     0.7704160   FALSE FALSE\n",
       "absences    2.218182     3.6979969   FALSE FALSE\n",
       "G1          1.043956     2.6194145   FALSE FALSE\n",
       "G2          1.197674     2.4653313   FALSE FALSE\n",
       "G3          1.072165     2.6194145   FALSE FALSE"
      ]
     },
     "execution_count": 20,
     "metadata": {},
     "output_type": "execute_result"
    }
   ],
   "source": [
    "x = nearZeroVar(math_mv, saveMetrics = TRUE)\n",
    "x\n",
    "y = nearZeroVar(port_mv, saveMetrics = TRUE)\n",
    "y"
   ]
  },
  {
   "cell_type": "markdown",
   "metadata": {},
   "source": [
    "#### 9.3.- Analyzing Near Zero Variance results\n",
    "Results in table can be readable in next way, freqRatio means how frequent any value is repeated across the samples, it is recomended features to have a freq ratio less than **15%**.\n",
    "\n",
    "Other parameter is the percentUnique, which tells the percentage of unique values across the samples, it is recommended to be higher than **10%**, but checking out values most of them have a very low range of values so it could be understandable that all are less than **10%**.\n",
    "\n",
    "Finally according more rules, function does a clasification decision about if predictors are constant (ZeroVar) or if predictors are close to be constant (nzv)."
   ]
  },
  {
   "cell_type": "markdown",
   "metadata": {},
   "source": [
    "#### 9.4.- Analyzing NZV conclusion\n",
    "As part of our data set, we can see that even when some parameters doesn't pass the recommended thresholds the function automatically declares all features as non near zero variance, as meaning that more considerations should be done, however is goog to reduce variables but we want to be sure which ones and not reduce more than needed, decide to keep all features.\n",
    "\n",
    "More than reduce or not the variables, it is a good information know how much the data variace is across samples."
   ]
  },
  {
   "cell_type": "markdown",
   "metadata": {},
   "source": [
    "### 10.- High correlation\n",
    "\n",
    "Data columns with very similar trends are also likely to carry very similar information. In this case, only one of them will suffice to feed the machine learning model. Pairs of columns with correlation coefficient higher than a threshold are reduced to only one. A word of caution: correlation is scale sensitive; therefore column normalization is required for a meaningful correlation comparison.\n",
    "\n",
    "In this case correlation cna also help us as guide to know how we can relate information, in this case using math grades to train and portuguese grades to evaluate. Also how to treat partial grades for **G1**, **G2** and **G3**."
   ]
  },
  {
   "cell_type": "markdown",
   "metadata": {},
   "source": [
    "#### 10.1.- Getting averages to compare with partial grades\n",
    "First lets check correlation of grades between partials from same subjects, so first lets calculate it."
   ]
  },
  {
   "cell_type": "code",
   "execution_count": 21,
   "metadata": {
    "collapsed": false
   },
   "outputs": [],
   "source": [
    "math_avg = (math$G1 + math$G2 + math$G3)/3\n",
    "port_avg = (port$G1 + port$G2 + port$G3)/3"
   ]
  },
  {
   "cell_type": "markdown",
   "metadata": {},
   "source": [
    "#### 10.2.- Calculating correlation using Pearson coeficent\n",
    "\n",
    "let's calculate correlation first between partial grades and average and them across subjets first using Pearson coeficent."
   ]
  },
  {
   "cell_type": "code",
   "execution_count": 22,
   "metadata": {
    "collapsed": false
   },
   "outputs": [
    {
     "data": {
      "text/plain": [
       "[1] 0.8521181"
      ]
     },
     "execution_count": 22,
     "metadata": {},
     "output_type": "execute_result"
    },
    {
     "data": {
      "text/plain": [
       "[1] 0.8014679"
      ]
     },
     "execution_count": 22,
     "metadata": {},
     "output_type": "execute_result"
    },
    {
     "data": {
      "text/plain": [
       "[1] 0.904868"
      ]
     },
     "execution_count": 22,
     "metadata": {},
     "output_type": "execute_result"
    },
    {
     "data": {
      "text/plain": [
       "[1] 0.9193861"
      ]
     },
     "execution_count": 22,
     "metadata": {},
     "output_type": "execute_result"
    },
    {
     "data": {
      "text/plain": [
       "[1] 0.9679987"
      ]
     },
     "execution_count": 22,
     "metadata": {},
     "output_type": "execute_result"
    },
    {
     "data": {
      "text/plain": [
       "[1] 0.9598732"
      ]
     },
     "execution_count": 22,
     "metadata": {},
     "output_type": "execute_result"
    },
    {
     "data": {
      "text/plain": [
       "[1] 0.8649816"
      ]
     },
     "execution_count": 22,
     "metadata": {},
     "output_type": "execute_result"
    },
    {
     "data": {
      "text/plain": [
       "[1] 0.8263871"
      ]
     },
     "execution_count": 22,
     "metadata": {},
     "output_type": "execute_result"
    },
    {
     "data": {
      "text/plain": [
       "[1] 0.918548"
      ]
     },
     "execution_count": 22,
     "metadata": {},
     "output_type": "execute_result"
    },
    {
     "data": {
      "text/plain": [
       "[1] 0.9335537"
      ]
     },
     "execution_count": 22,
     "metadata": {},
     "output_type": "execute_result"
    },
    {
     "data": {
      "text/plain": [
       "[1] 0.9712561"
      ]
     },
     "execution_count": 22,
     "metadata": {},
     "output_type": "execute_result"
    },
    {
     "data": {
      "text/plain": [
       "[1] 0.9618291"
      ]
     },
     "execution_count": 22,
     "metadata": {},
     "output_type": "execute_result"
    },
    {
     "data": {
      "text/plain": [
       "[1] 0.2576116"
      ]
     },
     "execution_count": 22,
     "metadata": {},
     "output_type": "execute_result"
    },
    {
     "data": {
      "text/plain": [
       "[1] 0.2311811"
      ]
     },
     "execution_count": 22,
     "metadata": {},
     "output_type": "execute_result"
    },
    {
     "data": {
      "text/plain": [
       "[1] 0.2575389"
      ]
     },
     "execution_count": 22,
     "metadata": {},
     "output_type": "execute_result"
    },
    {
     "data": {
      "text/plain": [
       "[1] 0.3015212"
      ]
     },
     "execution_count": 22,
     "metadata": {},
     "output_type": "execute_result"
    }
   ],
   "source": [
    "# calculate correlation matrix between math partials\n",
    "cor(math$G1, math$G2, use = \"everything\", method = \"pearson\")\n",
    "cor(math$G1, math$G3, use = \"everything\", method = \"pearson\")\n",
    "cor(math$G2, math$G3, use = \"everything\", method = \"pearson\")\n",
    "\n",
    "# calculate correlation matrix math partials vs average\n",
    "cor(math_avg, math$G1, use = \"everything\", method = \"pearson\")\n",
    "cor(math_avg, math$G2, use = \"everything\", method = \"pearson\")\n",
    "cor(math_avg, math$G3, use = \"everything\", method = \"pearson\")\n",
    "\n",
    "# calculate correlation matrix between portuguese partials\n",
    "cor(port$G1, port$G2, use = \"everything\", method = \"pearson\")\n",
    "cor(port$G1, port$G3, use = \"everything\", method = \"pearson\")\n",
    "cor(port$G2, port$G3, use = \"everything\", method = \"pearson\")\n",
    "\n",
    "# calculate correlation matrix portuguese partials vs average\n",
    "cor(port_avg, port$G1, use = \"everything\", method = \"pearson\")\n",
    "cor(port_avg, port$G2, use = \"everything\", method = \"pearson\")\n",
    "cor(port_avg, port$G3, use = \"everything\", method = \"pearson\")\n",
    "\n",
    "# calculate correlation matrix portuguese vs math\n",
    "cor(port$G1[0:394], math$G2[0:394], use = \"everything\", method = \"pearson\")\n",
    "cor(port$G1[0:394], math$G3[0:394], use = \"everything\", method = \"pearson\")\n",
    "cor(port$G2[0:394], math$G3[0:394], use = \"everything\", method = \"pearson\")\n",
    "cor(port_avg[0:394], math_avg[0:394], use = \"everything\", method = \"pearson\")"
   ]
  },
  {
   "cell_type": "markdown",
   "metadata": {},
   "source": [
    "#### 10.3.- Calculating correlation using Kendall coeficent\n",
    "\n",
    "let's calculate correlation first between partial grades and average and them across subjets first using Kendall coeficent."
   ]
  },
  {
   "cell_type": "code",
   "execution_count": 23,
   "metadata": {
    "collapsed": false
   },
   "outputs": [
    {
     "data": {
      "text/plain": [
       "[1] 0.7734594"
      ]
     },
     "execution_count": 23,
     "metadata": {},
     "output_type": "execute_result"
    },
    {
     "data": {
      "text/plain": [
       "[1] 0.7463426"
      ]
     },
     "execution_count": 23,
     "metadata": {},
     "output_type": "execute_result"
    },
    {
     "data": {
      "text/plain": [
       "[1] 0.8835184"
      ]
     },
     "execution_count": 23,
     "metadata": {},
     "output_type": "execute_result"
    },
    {
     "data": {
      "text/plain": [
       "[1] 0.8327781"
      ]
     },
     "execution_count": 23,
     "metadata": {},
     "output_type": "execute_result"
    },
    {
     "data": {
      "text/plain": [
       "[1] 0.9096158"
      ]
     },
     "execution_count": 23,
     "metadata": {},
     "output_type": "execute_result"
    },
    {
     "data": {
      "text/plain": [
       "[1] 0.917078"
      ]
     },
     "execution_count": 23,
     "metadata": {},
     "output_type": "execute_result"
    },
    {
     "data": {
      "text/plain": [
       "[1] 0.7806392"
      ]
     },
     "execution_count": 23,
     "metadata": {},
     "output_type": "execute_result"
    },
    {
     "data": {
      "text/plain": [
       "[1] 0.7661978"
      ]
     },
     "execution_count": 23,
     "metadata": {},
     "output_type": "execute_result"
    },
    {
     "data": {
      "text/plain": [
       "[1] 0.8695948"
      ]
     },
     "execution_count": 23,
     "metadata": {},
     "output_type": "execute_result"
    },
    {
     "data": {
      "text/plain": [
       "[1] 0.8616952"
      ]
     },
     "execution_count": 23,
     "metadata": {},
     "output_type": "execute_result"
    },
    {
     "data": {
      "text/plain": [
       "[1] 0.908808"
      ]
     },
     "execution_count": 23,
     "metadata": {},
     "output_type": "execute_result"
    },
    {
     "data": {
      "text/plain": [
       "[1] 0.9064493"
      ]
     },
     "execution_count": 23,
     "metadata": {},
     "output_type": "execute_result"
    },
    {
     "data": {
      "text/plain": [
       "[1] 0.2091468"
      ]
     },
     "execution_count": 23,
     "metadata": {},
     "output_type": "execute_result"
    },
    {
     "data": {
      "text/plain": [
       "[1] 0.2068991"
      ]
     },
     "execution_count": 23,
     "metadata": {},
     "output_type": "execute_result"
    },
    {
     "data": {
      "text/plain": [
       "[1] 0.2338031"
      ]
     },
     "execution_count": 23,
     "metadata": {},
     "output_type": "execute_result"
    },
    {
     "data": {
      "text/plain": [
       "[1] 0.2241178"
      ]
     },
     "execution_count": 23,
     "metadata": {},
     "output_type": "execute_result"
    }
   ],
   "source": [
    "# calculate correlation matrix between math partials\n",
    "cor(math$G1, math$G2, use = \"everything\", method = \"kendall\")\n",
    "cor(math$G1, math$G3, use = \"everything\", method = \"kendall\")\n",
    "cor(math$G2, math$G3, use = \"everything\", method = \"kendall\")\n",
    "\n",
    "# calculate correlation matrix math partials vs average\n",
    "cor(math_avg, math$G1, use = \"everything\", method = \"kendall\")\n",
    "cor(math_avg, math$G2, use = \"everything\", method = \"kendall\")\n",
    "cor(math_avg, math$G3, use = \"everything\", method = \"kendall\")\n",
    "\n",
    "# calculate correlation matrix between portuguese partials\n",
    "cor(port$G1, port$G2, use = \"everything\", method = \"kendall\")\n",
    "cor(port$G1, port$G3, use = \"everything\", method = \"kendall\")\n",
    "cor(port$G2, port$G3, use = \"everything\", method = \"kendall\")\n",
    "\n",
    "# calculate correlation matrix portuguese partials vs average\n",
    "cor(port_avg, port$G1, use = \"everything\", method = \"kendall\")\n",
    "cor(port_avg, port$G2, use = \"everything\", method = \"kendall\")\n",
    "cor(port_avg, port$G3, use = \"everything\", method = \"kendall\")\n",
    "\n",
    "# calculate correlation matrix portuguese vs math\n",
    "cor(port$G1[0:394], math$G2[0:394], use = \"everything\", method = \"kendall\")\n",
    "cor(port$G1[0:394], math$G3[0:394], use = \"everything\", method = \"kendall\")\n",
    "cor(port$G2[0:394], math$G3[0:394], use = \"everything\", method = \"kendall\")\n",
    "cor(port_avg[0:394], math_avg[0:394], use = \"everything\", method = \"kendall\")"
   ]
  },
  {
   "cell_type": "markdown",
   "metadata": {},
   "source": [
    "#### 10.4.- Calculating correlation using Spearman coeficent\n",
    "\n",
    "let's calculate correlation first between partial grades and average and them across subjets first using Spearman coeficent."
   ]
  },
  {
   "cell_type": "code",
   "execution_count": 24,
   "metadata": {
    "collapsed": false
   },
   "outputs": [
    {
     "data": {
      "text/plain": [
       "[1] 0.8947916"
      ]
     },
     "execution_count": 24,
     "metadata": {},
     "output_type": "execute_result"
    },
    {
     "data": {
      "text/plain": [
       "[1] 0.8780013"
      ]
     },
     "execution_count": 24,
     "metadata": {},
     "output_type": "execute_result"
    },
    {
     "data": {
      "text/plain": [
       "[1] 0.9571253"
      ]
     },
     "execution_count": 24,
     "metadata": {},
     "output_type": "execute_result"
    },
    {
     "data": {
      "text/plain": [
       "[1] 0.9393386"
      ]
     },
     "execution_count": 24,
     "metadata": {},
     "output_type": "execute_result"
    },
    {
     "data": {
      "text/plain": [
       "[1] 0.9764715"
      ]
     },
     "execution_count": 24,
     "metadata": {},
     "output_type": "execute_result"
    },
    {
     "data": {
      "text/plain": [
       "[1] 0.9808164"
      ]
     },
     "execution_count": 24,
     "metadata": {},
     "output_type": "execute_result"
    },
    {
     "data": {
      "text/plain": [
       "[1] 0.8930649"
      ]
     },
     "execution_count": 24,
     "metadata": {},
     "output_type": "execute_result"
    },
    {
     "data": {
      "text/plain": [
       "[1] 0.8832876"
      ]
     },
     "execution_count": 24,
     "metadata": {},
     "output_type": "execute_result"
    },
    {
     "data": {
      "text/plain": [
       "[1] 0.9444512"
      ]
     },
     "execution_count": 24,
     "metadata": {},
     "output_type": "execute_result"
    },
    {
     "data": {
      "text/plain": [
       "[1] 0.9543438"
      ]
     },
     "execution_count": 24,
     "metadata": {},
     "output_type": "execute_result"
    },
    {
     "data": {
      "text/plain": [
       "[1] 0.9736526"
      ]
     },
     "execution_count": 24,
     "metadata": {},
     "output_type": "execute_result"
    },
    {
     "data": {
      "text/plain": [
       "[1] 0.9729766"
      ]
     },
     "execution_count": 24,
     "metadata": {},
     "output_type": "execute_result"
    },
    {
     "data": {
      "text/plain": [
       "[1] 0.2808537"
      ]
     },
     "execution_count": 24,
     "metadata": {},
     "output_type": "execute_result"
    },
    {
     "data": {
      "text/plain": [
       "[1] 0.2763435"
      ]
     },
     "execution_count": 24,
     "metadata": {},
     "output_type": "execute_result"
    },
    {
     "data": {
      "text/plain": [
       "[1] 0.30924"
      ]
     },
     "execution_count": 24,
     "metadata": {},
     "output_type": "execute_result"
    },
    {
     "data": {
      "text/plain": [
       "[1] 0.3179563"
      ]
     },
     "execution_count": 24,
     "metadata": {},
     "output_type": "execute_result"
    }
   ],
   "source": [
    "# calculate correlation matrix between math partials\n",
    "cor(math$G1, math$G2, use = \"everything\", method = \"spearman\")\n",
    "cor(math$G1, math$G3, use = \"everything\", method = \"spearman\")\n",
    "cor(math$G2, math$G3, use = \"everything\", method = \"spearman\")\n",
    "\n",
    "# calculate correlation matrix math partials vs average\n",
    "cor(math_avg, math$G1, use = \"everything\", method = \"spearman\")\n",
    "cor(math_avg, math$G2, use = \"everything\", method = \"spearman\")\n",
    "cor(math_avg, math$G3, use = \"everything\", method = \"spearman\")\n",
    "\n",
    "# calculate correlation matrix between portuguese partials\n",
    "cor(port$G1, port$G2, use = \"everything\", method = \"spearman\")\n",
    "cor(port$G1, port$G3, use = \"everything\", method = \"spearman\")\n",
    "cor(port$G2, port$G3, use = \"everything\", method = \"spearman\")\n",
    "\n",
    "# calculate correlation matrix portuguese partials vs average\n",
    "cor(port_avg, port$G1, use = \"everything\", method = \"spearman\")\n",
    "cor(port_avg, port$G2, use = \"everything\", method = \"spearman\")\n",
    "cor(port_avg, port$G3, use = \"everything\", method = \"spearman\")\n",
    "\n",
    "# calculate correlation matrix portuguese vs math\n",
    "cor(port$G1[0:394], math$G2[0:394], use = \"everything\", method = \"spearman\")\n",
    "cor(port$G1[0:394], math$G3[0:394], use = \"everything\", method = \"spearman\")\n",
    "cor(port$G2[0:394], math$G3[0:394], use = \"everything\", method = \"spearman\")\n",
    "cor(port_avg[0:394], math_avg[0:394], use = \"everything\", method = \"spearman\")"
   ]
  },
  {
   "cell_type": "markdown",
   "metadata": {},
   "source": [
    "#### 10.5.- Correlation conclusions\n",
    "Seeing results using cor function we can see that spearman coeficent got the higher percentage of correlation, and kendall gets the lower but difference is in a range of 10%.\n",
    "\n",
    "According values gotten there are big correlation between partial grades and more correlation between each partial with average grades for both subjects. \n",
    "\n",
    "But when we compare math grades vs portuguse grades the correlation value is not greater than 35%. Printing out matrix we can obviously see that math grades are significally less than portuguese ones for all students, this is causing this change in correlation.\n",
    "\n",
    "However in this paper: http://citeseerx.ist.psu.edu/viewdoc/download?doi=10.1.1.540.8151&rep=rep1&type=pdf author clasifies grades in groups where it is identified that in most of cases the classification in math corresponds in portuguese, so this confirm as a good experiment the decision of using math grades to predict portuguese ones."
   ]
  },
  {
   "cell_type": "markdown",
   "metadata": {},
   "source": [
    "### 11.- Decision trees\n",
    "\n",
    "Early in this study we used decision trees as predictors, but also we were playing with different variables looking the ones more useful, and even in the most overfitting trees not all variables were present, so it can be an easy tool to get idea which variants can be useful.\n",
    "\n",
    "However there are difference between data scientist point of views. since some ones just consider them as a part of the random forest technique we will see next."
   ]
  },
  {
   "cell_type": "markdown",
   "metadata": {},
   "source": [
    "### 12.- Random Forests\n",
    "\n",
    "As a continuation of previous steps we continued our analysis this time using random forests"
   ]
  },
  {
   "cell_type": "markdown",
   "metadata": {},
   "source": [
    "#### 12.0.1.- Initialize the randomness\n",
    "Just in order to keep the results equals trough the multiple iterations of this work"
   ]
  },
  {
   "cell_type": "code",
   "execution_count": 25,
   "metadata": {
    "collapsed": false
   },
   "outputs": [],
   "source": [
    "# Value inside does not matter just to keep consistency\n",
    "set.seed(444)"
   ]
  },
  {
   "cell_type": "markdown",
   "metadata": {},
   "source": [
    "#### 12.1 Initial random forests\n",
    "\n",
    "So lets started using basic random forest with all values"
   ]
  },
  {
   "cell_type": "code",
   "execution_count": 26,
   "metadata": {
    "collapsed": false
   },
   "outputs": [
    {
     "data": {
      "image/png": "[encoded data removed]"
     },
     "metadata": {},
     "output_type": "display_data"
    }
   ],
   "source": [
    "# Simple Random forest with all values\n",
    "rndtree1 <- randomForest(as.factor(passed) ~ sex + age + famsize + Pstatus + Medu \n",
    "            + Fedu + Mjob + Fjob + traveltime + failures + schoolsup\n",
    "            + famsup + romantic + famrel + freetime + absences + alcohol\n",
    "            ,data = math, importance=TRUE, ntree=2000)\n",
    "varImpPlot(rndtree1)"
   ]
  },
  {
   "cell_type": "code",
   "execution_count": 27,
   "metadata": {
    "collapsed": false
   },
   "outputs": [
    {
     "data": {
      "text/plain": [
       "\n",
       "    FALSE      TRUE \n",
       "0.2357473 0.7642527 "
      ]
     },
     "execution_count": 27,
     "metadata": {},
     "output_type": "execute_result"
    }
   ],
   "source": [
    "# Prediction\n",
    "rfpred1 <- predict(rndtree1, port, type = \"class\")\n",
    "# Error\n",
    "rferr1 <- table(rfpred1 == port$passed)\n",
    "prop.table(rferr1)"
   ]
  },
  {
   "cell_type": "markdown",
   "metadata": {},
   "source": [
    "Actually it was not the best prediction we made so far (**76%** vs **84%**), but as we will see in the next step, it could be improved."
   ]
  },
  {
   "cell_type": "markdown",
   "metadata": {},
   "source": [
    "#### 12.2.- Forest of Conditional Inference Trees\n",
    "\n",
    "Lets's use another type of trees for our forests and see what happens"
   ]
  },
  {
   "cell_type": "code",
   "execution_count": 28,
   "metadata": {
    "collapsed": false
   },
   "outputs": [
    {
     "data": {
      "text/plain": [
       "\n",
       "    FALSE      TRUE \n",
       "0.1432974 0.8567026 "
      ]
     },
     "execution_count": 28,
     "metadata": {},
     "output_type": "execute_result"
    }
   ],
   "source": [
    "# Simple Conditional Forests with all values\n",
    "rndtree2 <- cforest(as.factor(passed) ~ sex + age + famsize + Pstatus + Medu \n",
    "            + Fedu + Mjob + Fjob + traveltime + failures + schoolsup\n",
    "            + famsup + romantic + famrel + freetime + absences + alcohol\n",
    "            ,data = math, controls=cforest_unbiased(ntree=2000, mtry=5))\n",
    "\n",
    "# Prediction\n",
    "rfpred2 <- predict(rndtree2, port, OOB=TRUE, type = \"response\")\n",
    "\n",
    "# Error\n",
    "rferr2 <- table(rfpred2 == port$passed)\n",
    "prop.table(rferr2)"
   ]
  },
  {
   "cell_type": "markdown",
   "metadata": {},
   "source": [
    "And we did it again, we improve our guesses by **1%** to get a total of **85.5%** now we can disccard or to add some other more variants to try to increase this indicators. "
   ]
  },
  {
   "cell_type": "markdown",
   "metadata": {},
   "source": [
    "#### 12.3.- Yet Another Random Forest\n",
    "Lets use only the relevant variables we found in the step **4**, and see if using less variables increases our chance to be correct."
   ]
  },
  {
   "cell_type": "code",
   "execution_count": 29,
   "metadata": {
    "collapsed": false
   },
   "outputs": [
    {
     "data": {
      "text/plain": [
       "\n",
       "    FALSE      TRUE \n",
       "0.1386749 0.8613251 "
      ]
     },
     "execution_count": 29,
     "metadata": {},
     "output_type": "execute_result"
    }
   ],
   "source": [
    "# Simple Conditional Forests with all values\n",
    "rndtree3 <- cforest(as.factor(passed) ~ Mjob + Pstatus + Medu + \n",
    "             Fjob + romantic + freetime + absences + alcohol + failures\n",
    "            ,data = math, controls=cforest_unbiased(ntree=2000, mtry=5))\n",
    "\n",
    "# Prediction\n",
    "rfpred3 <- predict(rndtree3, port, OOB=TRUE, type = \"response\")\n",
    "\n",
    "# Error\n",
    "rferr3 <- table(rfpred3 == port$passed)\n",
    "prop.table(rferr3)"
   ]
  },
  {
   "cell_type": "markdown",
   "metadata": {},
   "source": [
    "Well the result varies from **85.8%** to **86%** which is in general a slightly better but not by far. So let's use the top 5 of relevant values from point **7.0**"
   ]
  },
  {
   "cell_type": "code",
   "execution_count": 30,
   "metadata": {
    "collapsed": false
   },
   "outputs": [
    {
     "data": {
      "text/plain": [
       "\n",
       "    FALSE      TRUE \n",
       "0.1432974 0.8567026 "
      ]
     },
     "execution_count": 30,
     "metadata": {},
     "output_type": "execute_result"
    }
   ],
   "source": [
    "# Simple Conditional Forests with all values\n",
    "rndtree4 <- cforest(as.factor(passed) ~ failures + absences + schoolsup + alcohol + age\n",
    "            ,data = math, controls=cforest_unbiased(ntree=2000, mtry=3))\n",
    "\n",
    "# Prediction\n",
    "rfpred4 <- predict(rndtree4, port, OOB=TRUE, type = \"response\")\n",
    "\n",
    "# Error\n",
    "rferr4 <- table(rfpred4 == port$passed)\n",
    "prop.table(rferr4)"
   ]
  },
  {
   "cell_type": "markdown",
   "metadata": {},
   "source": [
    "We had to decrease the number of **mtry = 3**, since it is related to the numbers of variables used to created the trees, nevertheless our prediction does not improve as we wished, and it remains in **85%**."
   ]
  },
  {
   "cell_type": "markdown",
   "metadata": {},
   "source": [
    "#### 12.4.- Random Forest Conlusions"
   ]
  },
  {
   "cell_type": "markdown",
   "metadata": {
    "collapsed": true
   },
   "source": [
    "We could increase our chance to win with predictions using random forests, but still not reach a better index of \n",
    "success, but we need to remember that we are training our model using one subject and use it in another one, so there \n",
    "is one factor which is missing, and is the difficult of subject itself, so after that our result seen very acceptable.\n"
   ]
  }
 ],
 "metadata": {
  "kernelspec": {
   "display_name": "R",
   "language": "",
   "name": "ir"
  },
  "language_info": {
   "codemirror_mode": "r",
   "file_extension": ".r",
   "mimetype": "text/x-r-source",
   "name": "R",
   "pygments_lexer": "r"
  },
  "name": "_merged",
  "widgets": {
   "state": {},
   "version": "1.1.2"
  }
 },
 "nbformat": 4,
 "nbformat_minor": 0
}
